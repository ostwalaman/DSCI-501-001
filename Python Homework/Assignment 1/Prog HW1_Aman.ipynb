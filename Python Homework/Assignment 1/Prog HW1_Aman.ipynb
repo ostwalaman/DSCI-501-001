{
 "cells": [
  {
   "cell_type": "markdown",
   "metadata": {},
   "source": [
    "## Programming HW1 (10 points)\n",
    "\n",
    "## Module submission header\n",
    "### Submission preparation instructions \n",
    "_Completion of this header is mandatory, subject to a 2-point deduction to the assignment._ Only add plain text in the designated areas, i.e., replacing the relevant 'NA's. You must fill your Name and Drexel email address in the below markdown list, under header __Module submission group__. It is required to fill out descriptive notes pertaining to any tutoring support received in the completion of this submission under the __Additional submission comments__ section at the bottom of the header. If no tutoring support was received, leave NA in place. You may as well list other optional comments pertaining to the submission at bottom. _Any distruption of this header's formatting will make your group liable to the 2-point deduction._\n",
    "\n",
    "### Module submission\n",
    "- Name: Aman Ostwal\n",
    "- Email: ago34@drexel.edu\n",
    "\n",
    "\n",
    "### Additional submission comments\n",
    "- Tutoring support received: NA\n",
    "- Other (other): NA"
   ]
  },
  {
   "cell_type": "markdown",
   "metadata": {},
   "source": [
    "## Assignment details\n",
    "In this assignment, you are going to test whether a 4x4 matrix you entered is singular or not. I have provided you with most of the code and you just need to fill in. \n",
    "\n",
    "This should also give you the reduced echelon form of any given 4x4 non singular matrix."
   ]
  },
  {
   "cell_type": "code",
   "execution_count": 2,
   "metadata": {},
   "outputs": [],
   "source": [
    "import numpy as np"
   ]
  },
  {
   "cell_type": "code",
   "execution_count": 3,
   "metadata": {},
   "outputs": [],
   "source": [
    "#This will go through your input matrix and manipulate each row and turn it into echelon form we discussed in class.\n",
    "# If you are not able to make it into echelon form, then it is a singular matrix i.e., determinant is 0.\n",
    "#hence we will return true, if it is successful then return True. \n",
    "#Do not make any changes here\n",
    "\n",
    "def isSingular(A) :\n",
    "    B = np.array(A,dtype=np.float_) # Lets make a copy as we are going to change this matrix\n",
    "    try:\n",
    "        alterRowZero(B)\n",
    "        print(B)\n",
    "        alterRowOne(B)\n",
    "        print(B)\n",
    "        alterRowTwo(B)\n",
    "        print(B)\n",
    "        alterRowThree(B)\n",
    "        print(B)\n",
    "        \n",
    "    except ItIsSingular:\n",
    "        return True\n",
    "    return False\n",
    "\n",
    "#this is our error class. no need to make any changes here\n",
    "class ItIsSingular(Exception): pass\n",
    "\n",
    "#Remember that for the first row, all we need is the first element to be 1. \n",
    "#We can do it by dividing the whole row by the value of the element i.e., A[0,0]\n",
    "#However if A[0,0] is zero, then we are in trouble.. so need to test for that.\n",
    "#if that is the case we can add the lower row one by one to make sure we have a non zero first element.\n",
    "\n",
    "# Do not edit this.\n",
    "def alterRowZero(A) :\n",
    "    if A[0,0] == 0 :\n",
    "        A[0] = A[0] + A[1]\n",
    "    if A[0,0] == 0 :\n",
    "        A[0] = A[0] + A[2]\n",
    "    if A[0,0] == 0 :\n",
    "        A[0] = A[0] + A[3]\n",
    "    if A[0,0] == 0 :\n",
    "        raise ItIsSingular()\n",
    "    A[0] = A[0] / A[0,0]\n",
    "    return A\n",
    "\n",
    "#We need to make the element below the diagonal element zero i.e. A[1,0]\n",
    "# Next make A[1,1] = 1\n",
    "# We'll divide the row by the value of A[1, 1].\n",
    "# Do the zero test again\n",
    "\n",
    "# There is no need to edit this function.\n",
    "def alterRowOne(A) :\n",
    "    A[1] = A[1] - A[1,0] * A[0]\n",
    "    if A[1,1] == 0 :\n",
    "        A[1] = A[1] + A[2]\n",
    "        A[1] = A[1] - A[1,0] * A[0]\n",
    "    if A[1,1] == 0 :\n",
    "        A[1] = A[1] + A[3]\n",
    "        A[1] = A[1] - A[1,0] * A[0]\n",
    "    if A[1,1] == 0 :\n",
    "        raise ItIsSingular()\n",
    "    A[1] = A[1] / A[1,1]\n",
    "    return A\n",
    "\n",
    "# Complete this function\n",
    "def alterRowTwo(A) :\n",
    "    # Make the required elements in row two to zero (hint: there are 2 of them).\n",
    "    A[2] = A[2] - A[2,0] * A[0]\n",
    "    A[2] = A[2] - A[2,1] * A[1]\n",
    "    # zero test\n",
    "    if A[2,2] == 0 :\n",
    "        A[2] = A[2] + A[3]\n",
    "        A[2] = A[2] - A[2,0] * A[0]\n",
    "        A[2] = A[2] - A[2,1] * A[1]\n",
    "    if A[2,2] == 0 :\n",
    "        raise ItIsSingular()\n",
    "    # Finally set the diagonal element to one by dividing the whole row by that element.\n",
    "    A[2] = A[2] / A[2,2]\n",
    "    return A\n",
    "\n",
    "# You should also complete this function\n",
    "# Follow the instructions inside the function at each comment.\n",
    "def alterRowThree(A) :\n",
    "    # Insert code below to set the sub-diagonal elements of row three to zero.\n",
    "    A[3] = A[3] - A[3,0] * A[0]\n",
    "    A[3] = A[3] - A[3,1] * A[1]\n",
    "    A[3] = A[3] - A[3,2] * A[2]\n",
    "    if A[3,3] == 0 :\n",
    "        raise ItIsSingular()\n",
    "    A[3] = A[3] / A[3,3]\n",
    "    return A"
   ]
  },
  {
   "cell_type": "code",
   "execution_count": 4,
   "metadata": {},
   "outputs": [
    {
     "name": "stdout",
     "output_type": "stream",
     "text": [
      "[[1. 0. 0. 0.]\n",
      " [0. 3. 0. 0.]\n",
      " [0. 0. 4. 4.]\n",
      " [0. 0. 5. 5.]]\n",
      "[[1. 0. 0. 0.]\n",
      " [0. 1. 0. 0.]\n",
      " [0. 0. 4. 4.]\n",
      " [0. 0. 5. 5.]]\n",
      "[[1. 0. 0. 0.]\n",
      " [0. 1. 0. 0.]\n",
      " [0. 0. 1. 1.]\n",
      " [0. 0. 5. 5.]]\n"
     ]
    },
    {
     "data": {
      "text/plain": [
       "True"
      ]
     },
     "execution_count": 4,
     "metadata": {},
     "output_type": "execute_result"
    }
   ],
   "source": [
    "#Sanity check. You should get the following solution when you run this.\n",
    "A = np.array([\n",
    "        [2, 0, 0, 0],\n",
    "        [0, 3, 0, 0],\n",
    "        [0, 0, 4, 4],\n",
    "        [0, 0, 5, 5]\n",
    "    ], dtype=np.float_)\n",
    "isSingular(A)"
   ]
  },
  {
   "cell_type": "code",
   "execution_count": 5,
   "metadata": {},
   "outputs": [
    {
     "name": "stdout",
     "output_type": "stream",
     "text": [
      "[[ 1.   7.5 -2.5  3.5]\n",
      " [ 2.   8.   0.   4. ]\n",
      " [ 3.  12.   0.   5. ]\n",
      " [ 1.   3.   1.   3. ]]\n",
      "[[ 1.          7.5        -2.5         3.5       ]\n",
      " [-0.          1.         -0.71428571  0.42857143]\n",
      " [ 3.         12.          0.          5.        ]\n",
      " [ 1.          3.          1.          3.        ]]\n",
      "[[ 1.          7.5        -2.5         3.5       ]\n",
      " [-0.          1.         -0.71428571  0.42857143]\n",
      " [ 0.          0.          1.          1.5       ]\n",
      " [ 1.          3.          1.          3.        ]]\n",
      "[[ 1.          7.5        -2.5         3.5       ]\n",
      " [-0.          1.         -0.71428571  0.42857143]\n",
      " [ 0.          0.          1.          1.5       ]\n",
      " [ 0.          0.          0.          1.        ]]\n"
     ]
    },
    {
     "data": {
      "text/plain": [
       "False"
      ]
     },
     "execution_count": 5,
     "metadata": {},
     "output_type": "execute_result"
    }
   ],
   "source": [
    "#Sanity check. You should get the following solution when you run this.\n",
    "A = np.array([\n",
    "        [0, 7, -5, 3],\n",
    "        [2, 8, 0, 4],\n",
    "        [3, 12, 0, 5],\n",
    "        [1, 3, 1, 3]\n",
    "    ], dtype=np.float_)\n",
    "isSingular(A)"
   ]
  },
  {
   "cell_type": "markdown",
   "metadata": {},
   "source": [
    "## Bonus (may be considered for extra credit)\n",
    "\n",
    "Generalize your code for any dimension of square matrix."
   ]
  },
  {
   "cell_type": "code",
   "execution_count": null,
   "metadata": {},
   "outputs": [],
   "source": []
  }
 ],
 "metadata": {
  "kernelspec": {
   "display_name": "Python 3 (ipykernel)",
   "language": "python",
   "name": "python3"
  },
  "language_info": {
   "codemirror_mode": {
    "name": "ipython",
    "version": 3
   },
   "file_extension": ".py",
   "mimetype": "text/x-python",
   "name": "python",
   "nbconvert_exporter": "python",
   "pygments_lexer": "ipython3",
   "version": "3.12.1"
  }
 },
 "nbformat": 4,
 "nbformat_minor": 4
}
